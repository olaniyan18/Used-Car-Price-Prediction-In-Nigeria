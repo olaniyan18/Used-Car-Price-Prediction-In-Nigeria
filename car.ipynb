{
 "cells": [
  {
   "cell_type": "markdown",
   "metadata": {},
   "source": [
    "# Used Car Price Prediction in Nigeria"
   ]
  },
  {
   "cell_type": "code",
   "execution_count": 1,
   "metadata": {},
   "outputs": [],
   "source": [
    "#import libraries needed\n",
    "import pandas as pd\n",
    "import seaborn as sns\n",
    "import matplotlib.pyplot as plt\n"
   ]
  },
  {
   "cell_type": "code",
   "execution_count": 2,
   "metadata": {},
   "outputs": [
    {
     "data": {
      "text/html": [
       "<div>\n",
       "<style scoped>\n",
       "    .dataframe tbody tr th:only-of-type {\n",
       "        vertical-align: middle;\n",
       "    }\n",
       "\n",
       "    .dataframe tbody tr th {\n",
       "        vertical-align: top;\n",
       "    }\n",
       "\n",
       "    .dataframe thead th {\n",
       "        text-align: right;\n",
       "    }\n",
       "</style>\n",
       "<table border=\"1\" class=\"dataframe\">\n",
       "  <thead>\n",
       "    <tr style=\"text-align: right;\">\n",
       "      <th></th>\n",
       "      <th>title</th>\n",
       "      <th>odometer</th>\n",
       "      <th>location</th>\n",
       "      <th>isimported</th>\n",
       "      <th>engine</th>\n",
       "      <th>transmission</th>\n",
       "      <th>fuel</th>\n",
       "      <th>paint</th>\n",
       "      <th>price</th>\n",
       "      <th>year</th>\n",
       "    </tr>\n",
       "  </thead>\n",
       "  <tbody>\n",
       "    <tr>\n",
       "      <th>0</th>\n",
       "      <td>Toyota Corolla</td>\n",
       "      <td>60127</td>\n",
       "      <td>Lagos</td>\n",
       "      <td>Locally used</td>\n",
       "      <td>4-cylinder(I4)</td>\n",
       "      <td>automatic</td>\n",
       "      <td>petrol</td>\n",
       "      <td>Silver</td>\n",
       "      <td>1995000</td>\n",
       "      <td>2009</td>\n",
       "    </tr>\n",
       "    <tr>\n",
       "      <th>1</th>\n",
       "      <td>Acura MDX</td>\n",
       "      <td>132908</td>\n",
       "      <td>Lagos</td>\n",
       "      <td>Foreign Used</td>\n",
       "      <td>6-cylinder(V6)</td>\n",
       "      <td>automatic</td>\n",
       "      <td>petrol</td>\n",
       "      <td>Whine</td>\n",
       "      <td>3315000</td>\n",
       "      <td>2009</td>\n",
       "    </tr>\n",
       "    <tr>\n",
       "      <th>2</th>\n",
       "      <td>Lexus ES 350</td>\n",
       "      <td>120412</td>\n",
       "      <td>Lagos</td>\n",
       "      <td>Locally used</td>\n",
       "      <td>6-cylinder(V6)</td>\n",
       "      <td>automatic</td>\n",
       "      <td>petrol</td>\n",
       "      <td>Silver</td>\n",
       "      <td>2655000</td>\n",
       "      <td>2008</td>\n",
       "    </tr>\n",
       "    <tr>\n",
       "      <th>3</th>\n",
       "      <td>Mercedes-Benz GLK 350</td>\n",
       "      <td>67640</td>\n",
       "      <td>Lagos</td>\n",
       "      <td>Foreign Used</td>\n",
       "      <td>4-cylinder(I4)</td>\n",
       "      <td>automatic</td>\n",
       "      <td>petrol</td>\n",
       "      <td>Black</td>\n",
       "      <td>9015000</td>\n",
       "      <td>2013</td>\n",
       "    </tr>\n",
       "    <tr>\n",
       "      <th>4</th>\n",
       "      <td>Mercedes-Benz E 200</td>\n",
       "      <td>92440</td>\n",
       "      <td>Abuja</td>\n",
       "      <td>Foreign Used</td>\n",
       "      <td>4-cylinder(I4)</td>\n",
       "      <td>automatic</td>\n",
       "      <td>petrol</td>\n",
       "      <td>Black</td>\n",
       "      <td>5790000</td>\n",
       "      <td>2013</td>\n",
       "    </tr>\n",
       "  </tbody>\n",
       "</table>\n",
       "</div>"
      ],
      "text/plain": [
       "                   title  odometer location    isimported          engine  \\\n",
       "0         Toyota Corolla     60127    Lagos  Locally used  4-cylinder(I4)   \n",
       "1              Acura MDX    132908    Lagos  Foreign Used  6-cylinder(V6)   \n",
       "2           Lexus ES 350    120412    Lagos  Locally used  6-cylinder(V6)   \n",
       "3  Mercedes-Benz GLK 350     67640    Lagos  Foreign Used  4-cylinder(I4)   \n",
       "4    Mercedes-Benz E 200     92440    Abuja  Foreign Used  4-cylinder(I4)   \n",
       "\n",
       "  transmission    fuel   paint    price  year  \n",
       "0    automatic  petrol  Silver  1995000  2009  \n",
       "1    automatic  petrol  Whine   3315000  2009  \n",
       "2    automatic  petrol  Silver  2655000  2008  \n",
       "3    automatic  petrol   Black  9015000  2013  \n",
       "4    automatic  petrol   Black  5790000  2013  "
      ]
     },
     "execution_count": 2,
     "metadata": {},
     "output_type": "execute_result"
    }
   ],
   "source": [
    "#read the dataset\n",
    "car = pd.read_csv('car_scrape.csv')\n",
    "\n",
    "#view few rows\n",
    "car.head()"
   ]
  },
  {
   "cell_type": "markdown",
   "metadata": {},
   "source": [
    "## Understanding the Columns"
   ]
  },
  {
   "cell_type": "markdown",
   "metadata": {},
   "source": [
    "Title: The make and model of the car\n",
    "\n",
    "Odometer: The odometer reading, indicating the number of miles or kilometers the car has traveled.\n",
    "\n",
    "Location: The city or region where the car is currently listed for sale. \n",
    "\n",
    "Is Imported: Indicates whether the car is locally used or foreign used.\n",
    "\n",
    "Engine: Describes the type of engine the car is equipped with, including the number of cylinders. \n",
    "\n",
    "Transmission: Specifies the type of transmission, whether automatic or manual. \n",
    "\n",
    "Fuel: The fuel type the car is designed to use, such as petrol. \n",
    "\n",
    "Paint: The color of the car's exterior.\n",
    "\n",
    "Price: The listed price of the used car\n",
    "\n",
    "Year: The year in which the car was manufactured."
   ]
  },
  {
   "cell_type": "markdown",
   "metadata": {},
   "source": [
    "### Data Analysis"
   ]
  },
  {
   "cell_type": "code",
   "execution_count": 3,
   "metadata": {},
   "outputs": [
    {
     "data": {
      "text/plain": [
       "(1451, 10)"
      ]
     },
     "execution_count": 3,
     "metadata": {},
     "output_type": "execute_result"
    }
   ],
   "source": [
    "#check the number of rows and columns\n",
    "\n",
    "car.shape"
   ]
  },
  {
   "cell_type": "markdown",
   "metadata": {},
   "source": [
    "1451 rows and 10 columns"
   ]
  },
  {
   "cell_type": "code",
   "execution_count": 4,
   "metadata": {},
   "outputs": [
    {
     "name": "stdout",
     "output_type": "stream",
     "text": [
      "<class 'pandas.core.frame.DataFrame'>\n",
      "RangeIndex: 1451 entries, 0 to 1450\n",
      "Data columns (total 10 columns):\n",
      " #   Column        Non-Null Count  Dtype \n",
      "---  ------        --------------  ----- \n",
      " 0   title         1451 non-null   object\n",
      " 1   odometer      1451 non-null   int64 \n",
      " 2   location      1451 non-null   object\n",
      " 3   isimported    1451 non-null   object\n",
      " 4   engine        1451 non-null   object\n",
      " 5   transmission  1451 non-null   object\n",
      " 6   fuel          1451 non-null   object\n",
      " 7   paint         1451 non-null   object\n",
      " 8   price         1451 non-null   int64 \n",
      " 9   year          1451 non-null   int64 \n",
      "dtypes: int64(3), object(7)\n",
      "memory usage: 113.5+ KB\n"
     ]
    }
   ],
   "source": [
    "#the information of the data\n",
    "\n",
    "car.info()"
   ]
  },
  {
   "cell_type": "markdown",
   "metadata": {},
   "source": [
    "The dataset has both object(7) columns and integer(7) columns"
   ]
  },
  {
   "cell_type": "code",
   "execution_count": 5,
   "metadata": {},
   "outputs": [
    {
     "data": {
      "text/plain": [
       "title           0\n",
       "odometer        0\n",
       "location        0\n",
       "isimported      0\n",
       "engine          0\n",
       "transmission    0\n",
       "fuel            0\n",
       "paint           0\n",
       "price           0\n",
       "year            0\n",
       "dtype: int64"
      ]
     },
     "execution_count": 5,
     "metadata": {},
     "output_type": "execute_result"
    }
   ],
   "source": [
    "#check for missing values\n",
    "\n",
    "car.isnull().sum()"
   ]
  },
  {
   "cell_type": "code",
   "execution_count": 6,
   "metadata": {},
   "outputs": [
    {
     "data": {
      "text/plain": [
       "1"
      ]
     },
     "execution_count": 6,
     "metadata": {},
     "output_type": "execute_result"
    }
   ],
   "source": [
    "#check for duplicates\n",
    "\n",
    "car.duplicated().sum()"
   ]
  },
  {
   "cell_type": "markdown",
   "metadata": {},
   "source": [
    "We have one duplicate row, let's view and drop it"
   ]
  },
  {
   "cell_type": "code",
   "execution_count": 7,
   "metadata": {},
   "outputs": [
    {
     "data": {
      "text/html": [
       "<div>\n",
       "<style scoped>\n",
       "    .dataframe tbody tr th:only-of-type {\n",
       "        vertical-align: middle;\n",
       "    }\n",
       "\n",
       "    .dataframe tbody tr th {\n",
       "        vertical-align: top;\n",
       "    }\n",
       "\n",
       "    .dataframe thead th {\n",
       "        text-align: right;\n",
       "    }\n",
       "</style>\n",
       "<table border=\"1\" class=\"dataframe\">\n",
       "  <thead>\n",
       "    <tr style=\"text-align: right;\">\n",
       "      <th></th>\n",
       "      <th>title</th>\n",
       "      <th>odometer</th>\n",
       "      <th>location</th>\n",
       "      <th>isimported</th>\n",
       "      <th>engine</th>\n",
       "      <th>transmission</th>\n",
       "      <th>fuel</th>\n",
       "      <th>paint</th>\n",
       "      <th>price</th>\n",
       "      <th>year</th>\n",
       "    </tr>\n",
       "  </thead>\n",
       "  <tbody>\n",
       "    <tr>\n",
       "      <th>881</th>\n",
       "      <td>Lexus RX 350</td>\n",
       "      <td>13572</td>\n",
       "      <td>Lagos</td>\n",
       "      <td>Locally used</td>\n",
       "      <td>6-cylinder(V6)</td>\n",
       "      <td>automatic</td>\n",
       "      <td>petrol</td>\n",
       "      <td>Black</td>\n",
       "      <td>7715000</td>\n",
       "      <td>2012</td>\n",
       "    </tr>\n",
       "  </tbody>\n",
       "</table>\n",
       "</div>"
      ],
      "text/plain": [
       "            title  odometer location    isimported          engine  \\\n",
       "881  Lexus RX 350     13572    Lagos  Locally used  6-cylinder(V6)   \n",
       "\n",
       "    transmission    fuel  paint    price  year  \n",
       "881    automatic  petrol  Black  7715000  2012  "
      ]
     },
     "execution_count": 7,
     "metadata": {},
     "output_type": "execute_result"
    }
   ],
   "source": [
    "car[car.duplicated() == True]"
   ]
  },
  {
   "cell_type": "code",
   "execution_count": 8,
   "metadata": {},
   "outputs": [],
   "source": [
    "#let's drop the duplicate row\n",
    "\n",
    "car.drop_duplicates(keep='first', inplace=True)"
   ]
  },
  {
   "cell_type": "code",
   "execution_count": 9,
   "metadata": {},
   "outputs": [
    {
     "data": {
      "text/plain": [
       "(1450, 10)"
      ]
     },
     "execution_count": 9,
     "metadata": {},
     "output_type": "execute_result"
    }
   ],
   "source": [
    "#check the rows the dataset has again\n",
    "\n",
    "car.shape"
   ]
  },
  {
   "cell_type": "markdown",
   "metadata": {},
   "source": [
    "### Data Cleaning"
   ]
  },
  {
   "cell_type": "code",
   "execution_count": 10,
   "metadata": {},
   "outputs": [],
   "source": [
    "car = car.drop(car[car['odometer'] <=0].index)"
   ]
  },
  {
   "cell_type": "code",
   "execution_count": 11,
   "metadata": {},
   "outputs": [
    {
     "data": {
      "text/plain": [
       "(1415, 10)"
      ]
     },
     "execution_count": 11,
     "metadata": {},
     "output_type": "execute_result"
    }
   ],
   "source": [
    "car.shape"
   ]
  },
  {
   "cell_type": "code",
   "execution_count": 12,
   "metadata": {},
   "outputs": [],
   "source": [
    "#renaming the columns\n",
    "\n",
    "car.columns = [\n",
    "                'title','Odometer','Location','Imported','Engine', 'Transmission',\n",
    "                'Fuel Type','Color','Price','Year'\n",
    "]"
   ]
  },
  {
   "cell_type": "code",
   "execution_count": 13,
   "metadata": {},
   "outputs": [
    {
     "data": {
      "text/plain": [
       "Toyota Camry                179\n",
       "Toyota Corolla              159\n",
       "Toyota Highlander            79\n",
       "Toyota Sienna                78\n",
       "Toyota RAV 4                 59\n",
       "                           ... \n",
       "Volvo FL12                    1\n",
       "Isuzu NQR                     1\n",
       "Man Diesel 19.314 FILT-N      1\n",
       "Lincoln Mark                  1\n",
       "Mercedes-Benz S 450           1\n",
       "Name: title, Length: 220, dtype: int64"
      ]
     },
     "execution_count": 13,
     "metadata": {},
     "output_type": "execute_result"
    }
   ],
   "source": [
    "#checking Car Type column\n",
    "\n",
    "car['title'].value_counts()"
   ]
  },
  {
   "cell_type": "code",
   "execution_count": 14,
   "metadata": {},
   "outputs": [],
   "source": [
    "car['title'] = car['title'].str.replace('Mercedes-Benz', 'Mercedes Benz')"
   ]
  },
  {
   "cell_type": "code",
   "execution_count": 15,
   "metadata": {},
   "outputs": [],
   "source": [
    "#replace BMW to BMW BMW\n",
    "\n",
    "car['title'] = car['title'].str.replace('BMW', 'BMW BMW')"
   ]
  },
  {
   "cell_type": "code",
   "execution_count": 16,
   "metadata": {},
   "outputs": [],
   "source": [
    "car['title'] = car['title'].str.replace('Land Rover', 'Land-Rover')\n",
    "car['title'] = car['title'].str.replace('DAF', 'DAF DAF')\n",
    "car['title'] = car['title'].str.replace('Infiniti', 'Infiniti Infiniti')\n",
    "car['title'] = car['title'].str.replace('Mazda', 'Mazda Mazda')\n",
    "car['title'] = car['title'].str.replace('Mitsubishi L200', 'Mitsubishi Mitsubishi L200')\n",
    "car['title'] = car['title'].str.replace('Nissan A', 'Nissan Nissan A')\n",
    "car['title'] = car['title'].str.replace('Peugeot', 'Peugeot Peugeot')\n",
    "car['title'] = car['title'].str.replace('Volvo', 'Volvo')"
   ]
  },
  {
   "cell_type": "code",
   "execution_count": 17,
   "metadata": {},
   "outputs": [],
   "source": [
    "#separating brand name and car type\n",
    "\n",
    "def first_piece(i_string):\n",
    "    return i_string.split()[0]\n",
    "\n",
    "car['Brand'] = list(map(first_piece, car.title))"
   ]
  },
  {
   "cell_type": "code",
   "execution_count": 18,
   "metadata": {},
   "outputs": [],
   "source": [
    "#for car type\n",
    "\n",
    "car['Car Type'] = car['title'].apply(lambda x: x.split(' ', 1)[1] if ' ' in x else '')\n"
   ]
  },
  {
   "cell_type": "code",
   "execution_count": 19,
   "metadata": {},
   "outputs": [
    {
     "data": {
      "text/html": [
       "<div>\n",
       "<style scoped>\n",
       "    .dataframe tbody tr th:only-of-type {\n",
       "        vertical-align: middle;\n",
       "    }\n",
       "\n",
       "    .dataframe tbody tr th {\n",
       "        vertical-align: top;\n",
       "    }\n",
       "\n",
       "    .dataframe thead th {\n",
       "        text-align: right;\n",
       "    }\n",
       "</style>\n",
       "<table border=\"1\" class=\"dataframe\">\n",
       "  <thead>\n",
       "    <tr style=\"text-align: right;\">\n",
       "      <th></th>\n",
       "      <th>title</th>\n",
       "      <th>Odometer</th>\n",
       "      <th>Location</th>\n",
       "      <th>Imported</th>\n",
       "      <th>Engine</th>\n",
       "      <th>Transmission</th>\n",
       "      <th>Fuel Type</th>\n",
       "      <th>Color</th>\n",
       "      <th>Price</th>\n",
       "      <th>Year</th>\n",
       "      <th>Brand</th>\n",
       "      <th>Car Type</th>\n",
       "    </tr>\n",
       "  </thead>\n",
       "  <tbody>\n",
       "    <tr>\n",
       "      <th>0</th>\n",
       "      <td>Toyota Corolla</td>\n",
       "      <td>60127</td>\n",
       "      <td>Lagos</td>\n",
       "      <td>Locally used</td>\n",
       "      <td>4-cylinder(I4)</td>\n",
       "      <td>automatic</td>\n",
       "      <td>petrol</td>\n",
       "      <td>Silver</td>\n",
       "      <td>1995000</td>\n",
       "      <td>2009</td>\n",
       "      <td>Toyota</td>\n",
       "      <td>Corolla</td>\n",
       "    </tr>\n",
       "    <tr>\n",
       "      <th>1</th>\n",
       "      <td>Acura MDX</td>\n",
       "      <td>132908</td>\n",
       "      <td>Lagos</td>\n",
       "      <td>Foreign Used</td>\n",
       "      <td>6-cylinder(V6)</td>\n",
       "      <td>automatic</td>\n",
       "      <td>petrol</td>\n",
       "      <td>Whine</td>\n",
       "      <td>3315000</td>\n",
       "      <td>2009</td>\n",
       "      <td>Acura</td>\n",
       "      <td>MDX</td>\n",
       "    </tr>\n",
       "    <tr>\n",
       "      <th>2</th>\n",
       "      <td>Lexus ES 350</td>\n",
       "      <td>120412</td>\n",
       "      <td>Lagos</td>\n",
       "      <td>Locally used</td>\n",
       "      <td>6-cylinder(V6)</td>\n",
       "      <td>automatic</td>\n",
       "      <td>petrol</td>\n",
       "      <td>Silver</td>\n",
       "      <td>2655000</td>\n",
       "      <td>2008</td>\n",
       "      <td>Lexus</td>\n",
       "      <td>ES 350</td>\n",
       "    </tr>\n",
       "    <tr>\n",
       "      <th>3</th>\n",
       "      <td>Mercedes Benz GLK 350</td>\n",
       "      <td>67640</td>\n",
       "      <td>Lagos</td>\n",
       "      <td>Foreign Used</td>\n",
       "      <td>4-cylinder(I4)</td>\n",
       "      <td>automatic</td>\n",
       "      <td>petrol</td>\n",
       "      <td>Black</td>\n",
       "      <td>9015000</td>\n",
       "      <td>2013</td>\n",
       "      <td>Mercedes</td>\n",
       "      <td>Benz GLK 350</td>\n",
       "    </tr>\n",
       "    <tr>\n",
       "      <th>4</th>\n",
       "      <td>Mercedes Benz E 200</td>\n",
       "      <td>92440</td>\n",
       "      <td>Abuja</td>\n",
       "      <td>Foreign Used</td>\n",
       "      <td>4-cylinder(I4)</td>\n",
       "      <td>automatic</td>\n",
       "      <td>petrol</td>\n",
       "      <td>Black</td>\n",
       "      <td>5790000</td>\n",
       "      <td>2013</td>\n",
       "      <td>Mercedes</td>\n",
       "      <td>Benz E 200</td>\n",
       "    </tr>\n",
       "    <tr>\n",
       "      <th>...</th>\n",
       "      <td>...</td>\n",
       "      <td>...</td>\n",
       "      <td>...</td>\n",
       "      <td>...</td>\n",
       "      <td>...</td>\n",
       "      <td>...</td>\n",
       "      <td>...</td>\n",
       "      <td>...</td>\n",
       "      <td>...</td>\n",
       "      <td>...</td>\n",
       "      <td>...</td>\n",
       "      <td>...</td>\n",
       "    </tr>\n",
       "    <tr>\n",
       "      <th>111</th>\n",
       "      <td>Toyota Corolla</td>\n",
       "      <td>253516</td>\n",
       "      <td>Abuja</td>\n",
       "      <td>Foreign Used</td>\n",
       "      <td>4-cylinder(I4)</td>\n",
       "      <td>automatic</td>\n",
       "      <td>petrol</td>\n",
       "      <td>Grey</td>\n",
       "      <td>2465000</td>\n",
       "      <td>2004</td>\n",
       "      <td>Toyota</td>\n",
       "      <td>Corolla</td>\n",
       "    </tr>\n",
       "    <tr>\n",
       "      <th>112</th>\n",
       "      <td>Honda Crosstour</td>\n",
       "      <td>156135</td>\n",
       "      <td>Adamawa</td>\n",
       "      <td>Locally used</td>\n",
       "      <td>6-cylinder(V6)</td>\n",
       "      <td>automatic</td>\n",
       "      <td>petrol</td>\n",
       "      <td>Black</td>\n",
       "      <td>2715000</td>\n",
       "      <td>2010</td>\n",
       "      <td>Honda</td>\n",
       "      <td>Crosstour</td>\n",
       "    </tr>\n",
       "    <tr>\n",
       "      <th>113</th>\n",
       "      <td>Mercedes Benz E 350</td>\n",
       "      <td>6297</td>\n",
       "      <td>Lagos</td>\n",
       "      <td>Foreign Used</td>\n",
       "      <td>6-cylinder(V6)</td>\n",
       "      <td>automatic</td>\n",
       "      <td>petrol</td>\n",
       "      <td>White</td>\n",
       "      <td>3615000</td>\n",
       "      <td>2009</td>\n",
       "      <td>Mercedes</td>\n",
       "      <td>Benz E 350</td>\n",
       "    </tr>\n",
       "    <tr>\n",
       "      <th>114</th>\n",
       "      <td>Toyota Sienna</td>\n",
       "      <td>167457</td>\n",
       "      <td>Lagos</td>\n",
       "      <td>Foreign Used</td>\n",
       "      <td>6-cylinder(I6)</td>\n",
       "      <td>automatic</td>\n",
       "      <td>petrol</td>\n",
       "      <td>Blue</td>\n",
       "      <td>2765000</td>\n",
       "      <td>2005</td>\n",
       "      <td>Toyota</td>\n",
       "      <td>Sienna</td>\n",
       "    </tr>\n",
       "    <tr>\n",
       "      <th>115</th>\n",
       "      <td>Honda Pilot</td>\n",
       "      <td>158855</td>\n",
       "      <td>Lagos</td>\n",
       "      <td>Foreign Used</td>\n",
       "      <td>6-cylinder(I6)</td>\n",
       "      <td>automatic</td>\n",
       "      <td>petrol</td>\n",
       "      <td>Gold</td>\n",
       "      <td>3815000</td>\n",
       "      <td>2009</td>\n",
       "      <td>Honda</td>\n",
       "      <td>Pilot</td>\n",
       "    </tr>\n",
       "  </tbody>\n",
       "</table>\n",
       "<p>100 rows × 12 columns</p>\n",
       "</div>"
      ],
      "text/plain": [
       "                     title  Odometer  Location      Imported          Engine  \\\n",
       "0           Toyota Corolla     60127     Lagos  Locally used  4-cylinder(I4)   \n",
       "1                Acura MDX    132908     Lagos  Foreign Used  6-cylinder(V6)   \n",
       "2             Lexus ES 350    120412     Lagos  Locally used  6-cylinder(V6)   \n",
       "3    Mercedes Benz GLK 350     67640     Lagos  Foreign Used  4-cylinder(I4)   \n",
       "4      Mercedes Benz E 200     92440     Abuja  Foreign Used  4-cylinder(I4)   \n",
       "..                     ...       ...       ...           ...             ...   \n",
       "111         Toyota Corolla    253516     Abuja  Foreign Used  4-cylinder(I4)   \n",
       "112        Honda Crosstour    156135  Adamawa   Locally used  6-cylinder(V6)   \n",
       "113    Mercedes Benz E 350      6297     Lagos  Foreign Used  6-cylinder(V6)   \n",
       "114          Toyota Sienna    167457     Lagos  Foreign Used  6-cylinder(I6)   \n",
       "115            Honda Pilot    158855     Lagos  Foreign Used  6-cylinder(I6)   \n",
       "\n",
       "    Transmission Fuel Type   Color    Price  Year     Brand      Car Type  \n",
       "0      automatic    petrol  Silver  1995000  2009    Toyota       Corolla  \n",
       "1      automatic    petrol  Whine   3315000  2009     Acura           MDX  \n",
       "2      automatic    petrol  Silver  2655000  2008     Lexus        ES 350  \n",
       "3      automatic    petrol   Black  9015000  2013  Mercedes  Benz GLK 350  \n",
       "4      automatic    petrol   Black  5790000  2013  Mercedes    Benz E 200  \n",
       "..           ...       ...     ...      ...   ...       ...           ...  \n",
       "111    automatic    petrol    Grey  2465000  2004    Toyota       Corolla  \n",
       "112    automatic    petrol   Black  2715000  2010     Honda     Crosstour  \n",
       "113    automatic    petrol   White  3615000  2009  Mercedes    Benz E 350  \n",
       "114    automatic    petrol    Blue  2765000  2005    Toyota        Sienna  \n",
       "115    automatic    petrol    Gold  3815000  2009     Honda         Pilot  \n",
       "\n",
       "[100 rows x 12 columns]"
      ]
     },
     "execution_count": 19,
     "metadata": {},
     "output_type": "execute_result"
    }
   ],
   "source": [
    "car.head(100)"
   ]
  },
  {
   "cell_type": "code",
   "execution_count": 20,
   "metadata": {},
   "outputs": [],
   "source": [
    "car['Brand'] = car['Brand'].str.capitalize()"
   ]
  },
  {
   "cell_type": "code",
   "execution_count": 21,
   "metadata": {},
   "outputs": [],
   "source": [
    "#drop the title column\n",
    "car.drop('title', axis = 1, inplace= True)"
   ]
  },
  {
   "cell_type": "code",
   "execution_count": 22,
   "metadata": {},
   "outputs": [],
   "source": [
    "#reorder the columns\n",
    "order = ['Brand','Car Type', \"Odometer\", 'Location', 'Imported', 'Engine', 'Transmission','Fuel Type', 'Color','Year','Price']\n",
    "car = car[order]"
   ]
  },
  {
   "cell_type": "code",
   "execution_count": 23,
   "metadata": {},
   "outputs": [
    {
     "data": {
      "text/plain": [
       "38"
      ]
     },
     "execution_count": 23,
     "metadata": {},
     "output_type": "execute_result"
    }
   ],
   "source": [
    "#how many unique brands do we have\n",
    "\n",
    "car['Brand'].nunique()"
   ]
  },
  {
   "cell_type": "code",
   "execution_count": 24,
   "metadata": {},
   "outputs": [
    {
     "data": {
      "text/plain": [
       "Toyota         694\n",
       "Lexus          175\n",
       "Mercedes       145\n",
       "Honda          115\n",
       "Ford            43\n",
       "Hyundai         35\n",
       "Nissan          30\n",
       "Land-rover      25\n",
       "Kia             17\n",
       "Volkswagen      16\n",
       "Acura           13\n",
       "Bmw             13\n",
       "Mazda            9\n",
       "Volvo            8\n",
       "Mack             7\n",
       "Mitsubishi       7\n",
       "Infiniti         7\n",
       "Chevrolet        6\n",
       "Peugeot          6\n",
       "Porsche          5\n",
       "Mini             4\n",
       "Pontiac          4\n",
       "Gac              4\n",
       "Man              4\n",
       "Daf              3\n",
       "Jeep             3\n",
       "Iveco            3\n",
       "Jaguar           3\n",
       "Rolls-royce      2\n",
       "Audi             1\n",
       "Alpina           1\n",
       "Jmc              1\n",
       "Dodge            1\n",
       "Fiat             1\n",
       "Gmc              1\n",
       "Lincoln          1\n",
       "Bentley          1\n",
       "Isuzu            1\n",
       "Name: Brand, dtype: int64"
      ]
     },
     "execution_count": 24,
     "metadata": {},
     "output_type": "execute_result"
    }
   ],
   "source": [
    "car['Brand'].value_counts()"
   ]
  },
  {
   "cell_type": "markdown",
   "metadata": {},
   "source": [
    "There are 38 different brands in the dataset"
   ]
  },
  {
   "cell_type": "code",
   "execution_count": 25,
   "metadata": {},
   "outputs": [
    {
     "data": {
      "text/plain": [
       "15"
      ]
     },
     "execution_count": 25,
     "metadata": {},
     "output_type": "execute_result"
    }
   ],
   "source": [
    "#how many locations are these cars available\n",
    "\n",
    "car['Location'].nunique()"
   ]
  },
  {
   "cell_type": "code",
   "execution_count": 26,
   "metadata": {},
   "outputs": [
    {
     "data": {
      "text/plain": [
       "Lagos                1096\n",
       "Abuja                 212\n",
       "Lagos                  34\n",
       "Ogun                   34\n",
       "Lagos State            21\n",
       "other                   5\n",
       "Ogun State              2\n",
       "Abuja                   2\n",
       "Abia                    2\n",
       "FCT                     2\n",
       "Adamawa                 1\n",
       "Abia State              1\n",
       "Arepo ogun state        1\n",
       "Accra                   1\n",
       "Mushin                  1\n",
       "Name: Location, dtype: int64"
      ]
     },
     "execution_count": 26,
     "metadata": {},
     "output_type": "execute_result"
    }
   ],
   "source": [
    "car['Location'].value_counts()"
   ]
  },
  {
   "cell_type": "code",
   "execution_count": 27,
   "metadata": {},
   "outputs": [],
   "source": [
    "car['Location'] = car['Location'].str.replace('Lagos State', 'Lagos')\n",
    "car['Location'] = car['Location'].str.replace('Ogun State', 'Ogun')\n",
    "car['Location'] = car['Location'].str.replace('Arepo ogun state', 'Ogun')"
   ]
  },
  {
   "cell_type": "code",
   "execution_count": 28,
   "metadata": {},
   "outputs": [],
   "source": [
    "#trip Location column\n",
    "car['Location'] = car['Location'].str.strip()"
   ]
  },
  {
   "cell_type": "code",
   "execution_count": 29,
   "metadata": {},
   "outputs": [
    {
     "data": {
      "text/plain": [
       "Lagos     1151\n",
       "Abuja      214\n",
       "Ogun        37\n",
       "Others      13\n",
       "Name: Location, dtype: int64"
      ]
     },
     "execution_count": 29,
     "metadata": {},
     "output_type": "execute_result"
    }
   ],
   "source": [
    "# any location less than 5 should be under others\n",
    "\n",
    "loc_count = car.Location.value_counts()\n",
    "loc_count\n",
    "\n",
    "paint_top = list(loc_count[loc_count.values>=6].index)\n",
    "car['Location'] = car.Location.where(car.Location.isin(paint_top), 'Others')\n",
    "car.Location.value_counts()"
   ]
  },
  {
   "cell_type": "code",
   "execution_count": 30,
   "metadata": {},
   "outputs": [
    {
     "data": {
      "text/plain": [
       "3"
      ]
     },
     "execution_count": 30,
     "metadata": {},
     "output_type": "execute_result"
    }
   ],
   "source": [
    "#how many import types\n",
    "\n",
    "car['Imported'].nunique()\n"
   ]
  },
  {
   "cell_type": "code",
   "execution_count": 31,
   "metadata": {},
   "outputs": [
    {
     "data": {
      "text/plain": [
       "Foreign Used    1059\n",
       "Locally used     316\n",
       "New               40\n",
       "Name: Imported, dtype: int64"
      ]
     },
     "execution_count": 31,
     "metadata": {},
     "output_type": "execute_result"
    }
   ],
   "source": [
    "car['Imported'].value_counts()"
   ]
  },
  {
   "cell_type": "code",
   "execution_count": 32,
   "metadata": {},
   "outputs": [
    {
     "data": {
      "text/plain": [
       "9"
      ]
     },
     "execution_count": 32,
     "metadata": {},
     "output_type": "execute_result"
    }
   ],
   "source": [
    "#engine type\n",
    "\n",
    "car['Engine'].nunique()"
   ]
  },
  {
   "cell_type": "code",
   "execution_count": 33,
   "metadata": {},
   "outputs": [
    {
     "data": {
      "text/plain": [
       "4-cylinder(I4)      882\n",
       "6-cylinder(V6)      299\n",
       "6-cylinder(I6)      154\n",
       "8-cylinder(V8)       68\n",
       "3-cylinder(I3)        4\n",
       "5-cylinder(I5)        3\n",
       "4-cylinder(H4)        2\n",
       "2-cylinder(I2)        2\n",
       "12-cylinder(V12)      1\n",
       "Name: Engine, dtype: int64"
      ]
     },
     "execution_count": 33,
     "metadata": {},
     "output_type": "execute_result"
    }
   ],
   "source": [
    "car['Engine'].value_counts()"
   ]
  },
  {
   "cell_type": "code",
   "execution_count": 34,
   "metadata": {},
   "outputs": [
    {
     "data": {
      "text/plain": [
       "4-cylinder(I4)    882\n",
       "6-cylinder(V6)    299\n",
       "6-cylinder(I6)    154\n",
       "8-cylinder(V8)     68\n",
       "Others             12\n",
       "Name: Engine, dtype: int64"
      ]
     },
     "execution_count": 34,
     "metadata": {},
     "output_type": "execute_result"
    }
   ],
   "source": [
    "#replace any engine less than 5 with Others\n",
    "\n",
    "paint_count = car.Engine.value_counts()\n",
    "paint_count\n",
    "\n",
    "paint_top = list(paint_count[paint_count.values>5].index)\n",
    "car['Engine'] = car.Engine.where(car.Engine.isin(paint_top), 'Others')\n",
    "car.Engine.value_counts()"
   ]
  },
  {
   "cell_type": "code",
   "execution_count": 35,
   "metadata": {},
   "outputs": [
    {
     "name": "stdout",
     "output_type": "stream",
     "text": [
      "There are 85 colors in the dataset\n"
     ]
    }
   ],
   "source": [
    "#different volors available\n",
    "\n",
    "color = car['Color'].nunique()\n",
    "print('There are {} colors in the dataset'.format(color))"
   ]
  },
  {
   "cell_type": "code",
   "execution_count": 36,
   "metadata": {},
   "outputs": [
    {
     "name": "stdout",
     "output_type": "stream",
     "text": [
      "Black        408\n",
      "Silver       164\n",
      "White        157\n",
      "Grey         113\n",
      "Blue          96\n",
      "Red           89\n",
      "Dark Grey     61\n",
      "Gold          46\n",
      "Gray          30\n",
      "Green         26\n",
      "white         23\n",
      "Brown         21\n",
      "Black         19\n",
      "Dark Blue     18\n",
      "Wine          10\n",
      "Sliver         7\n",
      "Blue           6\n",
      "Silver         6\n",
      "Yellow         5\n",
      "Grey           5\n",
      "Name: Color, dtype: int64\n"
     ]
    }
   ],
   "source": [
    "#check out the colors available\n",
    "\n",
    "\n",
    "colors = car['Color'].value_counts().nlargest(20)\n",
    "print(colors)"
   ]
  },
  {
   "cell_type": "code",
   "execution_count": 37,
   "metadata": {},
   "outputs": [],
   "source": [
    "# the clor column needs cleaning, let's clean that\n",
    "\n",
    "car['Color'] = car['Color'].str.upper().str.strip()"
   ]
  },
  {
   "cell_type": "code",
   "execution_count": 38,
   "metadata": {},
   "outputs": [],
   "source": [
    "car['Color'] = car['Color'].str.replace('WHINE', 'WINE')\n",
    "car['Color'] = car['Color'].str.replace('GRAY', 'GREY')\n",
    "car['Color'] = car['Color'].str.replace('SLIVER', 'SILVER')"
   ]
  },
  {
   "cell_type": "code",
   "execution_count": 39,
   "metadata": {},
   "outputs": [
    {
     "data": {
      "text/plain": [
       "BLACK         431\n",
       "WHITE         183\n",
       "SILVER        179\n",
       "GREY          149\n",
       "BLUE          106\n",
       "RED            92\n",
       "DARK GREY      64\n",
       "GOLD           52\n",
       "GREEN          29\n",
       "BROWN          22\n",
       "DARK BLUE      22\n",
       "WINE           12\n",
       "CREAM           6\n",
       "ASH             5\n",
       "YELLOW          5\n",
       "DARK ASH        5\n",
       "DARK GREEN      4\n",
       "MAROON          3\n",
       "PURPLE          3\n",
       "DEEP BLUE       2\n",
       "WHITE-BLUE      2\n",
       "MILK            2\n",
       "NAVY BLUE       2\n",
       "BEIGE           2\n",
       "SKY BLUE        2\n",
       "Name: Color, dtype: int64"
      ]
     },
     "execution_count": 39,
     "metadata": {},
     "output_type": "execute_result"
    }
   ],
   "source": [
    "car['Color'].value_counts().nlargest(25)"
   ]
  },
  {
   "cell_type": "code",
   "execution_count": 40,
   "metadata": {},
   "outputs": [
    {
     "data": {
      "text/plain": [
       "BLACK        431\n",
       "WHITE        183\n",
       "SILVER       179\n",
       "GREY         149\n",
       "BLUE         106\n",
       "RED           92\n",
       "Others        68\n",
       "DARK GREY     64\n",
       "GOLD          52\n",
       "GREEN         29\n",
       "BROWN         22\n",
       "DARK BLUE     22\n",
       "WINE          12\n",
       "CREAM          6\n",
       "Name: Color, dtype: int64"
      ]
     },
     "execution_count": 40,
     "metadata": {},
     "output_type": "execute_result"
    }
   ],
   "source": [
    "#replace any color less than 5 with Others\n",
    "\n",
    "paint_count = car.Color.value_counts()\n",
    "paint_count\n",
    "\n",
    "paint_top = list(paint_count[paint_count.values>5].index)\n",
    "car['Color'] = car.Color.where(car.Color.isin(paint_top), 'Others')\n",
    "car.Color.value_counts()"
   ]
  },
  {
   "cell_type": "code",
   "execution_count": 41,
   "metadata": {},
   "outputs": [],
   "source": [
    "car['Color'] = car['Color'].str.capitalize()"
   ]
  },
  {
   "cell_type": "code",
   "execution_count": 42,
   "metadata": {},
   "outputs": [
    {
     "data": {
      "text/plain": [
       "array([2009, 2008, 2013, 2016, 2000, 2010, 2007, 2006, 2015, 2014, 2004,\n",
       "       2001, 2011, 2012, 2005, 2002, 2019, 2020, 2018, 2003, 1994, 2017,\n",
       "       1997, 1995, 1991, 1998, 1218, 1996, 1726, 1999, 1980, 1217, 1324,\n",
       "       1985], dtype=int64)"
      ]
     },
     "execution_count": 42,
     "metadata": {},
     "output_type": "execute_result"
    }
   ],
   "source": [
    "car['Year'].unique()"
   ]
  },
  {
   "cell_type": "code",
   "execution_count": 43,
   "metadata": {},
   "outputs": [],
   "source": [
    "#remove rows where year > 2021 and year < 1980\n",
    "\n",
    "#drop year less than 1980\n",
    "car = car.drop(car[car['Year']< 1980].index)\n",
    "\n",
    "#drop year geater than 2021\n",
    "car = car.drop(car[car['Year']> 2020].index)"
   ]
  },
  {
   "cell_type": "markdown",
   "metadata": {},
   "source": [
    "### Data Visualization"
   ]
  },
  {
   "cell_type": "code",
   "execution_count": 44,
   "metadata": {},
   "outputs": [
    {
     "data": {
      "image/png": "[encoded data removed]",
      "text/plain": [
       "<Figure size 720x1080 with 1 Axes>"
      ]
     },
     "metadata": {
      "needs_background": "light"
     },
     "output_type": "display_data"
    },
    {
     "data": {
      "image/png": "[encoded data removed]",
      "text/plain": [
       "<Figure size 720x1080 with 1 Axes>"
      ]
     },
     "metadata": {
      "needs_background": "light"
     },
     "output_type": "display_data"
    },
    {
     "data": {
      "image/png": "[encoded data removed]",
      "text/plain": [
       "<Figure size 720x1080 with 1 Axes>"
      ]
     },
     "metadata": {
      "needs_background": "light"
     },
     "output_type": "display_data"
    },
    {
     "data": {
      "image/png": "[encoded data removed]",
      "text/plain": [
       "<Figure size 720x1080 with 1 Axes>"
      ]
     },
     "metadata": {
      "needs_background": "light"
     },
     "output_type": "display_data"
    },
    {
     "data": {
      "image/png": "[encoded data removed]",
      "text/plain": [
       "<Figure size 720x1080 with 1 Axes>"
      ]
     },
     "metadata": {
      "needs_background": "light"
     },
     "output_type": "display_data"
    },
    {
     "data": {
      "image/png": "[encoded data removed]",
      "text/plain": [
       "<Figure size 720x1080 with 1 Axes>"
      ]
     },
     "metadata": {
      "needs_background": "light"
     },
     "output_type": "display_data"
    },
    {
     "data": {
      "image/png": "[encoded data removed]",
      "text/plain": [
       "<Figure size 720x1080 with 1 Axes>"
      ]
     },
     "metadata": {
      "needs_background": "light"
     },
     "output_type": "display_data"
    },
    {
     "data": {
      "image/png": "[encoded data removed]",
      "text/plain": [
       "<Figure size 720x1080 with 1 Axes>"
      ]
     },
     "metadata": {
      "needs_background": "light"
     },
     "output_type": "display_data"
    }
   ],
   "source": [
    "# fig, ax = plt.subplots(figsize=(10,10))\n",
    "\n",
    "car_object = car.select_dtypes('object')\n",
    "\n",
    "# Loop through each categorical column and create a bar chart\n",
    "for col in car_object:\n",
    "    # Count the number of rows for each category of the column\n",
    "    col_counts = car[col].value_counts()\n",
    "    fig, ax = plt.subplots(figsize=(10, 15))\n",
    "\n",
    "    # Create a bar chart using Matplotlib\n",
    "    ax = sns.barplot(x = col_counts.values, y = col_counts.index)\n",
    "\n",
    "    # Add labels and title\n",
    "    plt.title(f'Number of Rows for each category of {col} column')\n",
    "    plt.xlabel('Count')\n",
    "    plt.ylabel(col)\n",
    "    plt.xticks(rotation = 90)\n",
    "\n",
    "    # Display the chart\n",
    "    plt.show()\n"
   ]
  },
  {
   "cell_type": "code",
   "execution_count": 45,
   "metadata": {},
   "outputs": [
    {
     "data": {
      "text/plain": [
       "<AxesSubplot:xlabel='Year', ylabel='Price'>"
      ]
     },
     "execution_count": 45,
     "metadata": {},
     "output_type": "execute_result"
    },
    {
     "data": {
      "image/png": "[encoded data removed]",
      "text/plain": [
       "<Figure size 432x288 with 1 Axes>"
      ]
     },
     "metadata": {
      "needs_background": "light"
     },
     "output_type": "display_data"
    }
   ],
   "source": [
    "# is year affecting the increase in price?\n",
    "\n",
    "sns.lineplot(x = car['Year'], y = car['Price'])"
   ]
  },
  {
   "cell_type": "markdown",
   "metadata": {},
   "source": [
    "The data shows the year affects the price the newer the model(year), the increase in price"
   ]
  },
  {
   "cell_type": "code",
   "execution_count": 46,
   "metadata": {},
   "outputs": [
    {
     "data": {
      "text/plain": [
       "Brand   Car Type  \n",
       "Lexus   LX 570        1171075000\n",
       "Toyota  Camry          961918500\n",
       "        Corolla        689893000\n",
       "        Highlander     685242500\n",
       "Lexus   GX 460         596470000\n",
       "Name: Price, dtype: int64"
      ]
     },
     "execution_count": 46,
     "metadata": {},
     "output_type": "execute_result"
    }
   ],
   "source": [
    "grouped_data = car.groupby(['Brand', 'Car Type'])['Price'].sum()\n",
    "grouped = grouped_data.nlargest(5)\n",
    "grouped"
   ]
  },
  {
   "cell_type": "code",
   "execution_count": 47,
   "metadata": {},
   "outputs": [],
   "source": [
    "#reset the index to plot\n",
    "\n",
    "grouped = grouped.reset_index()"
   ]
  },
  {
   "cell_type": "code",
   "execution_count": 48,
   "metadata": {},
   "outputs": [
    {
     "data": {
      "image/png": "[encoded data removed]",
      "text/plain": [
       "<Figure size 432x288 with 1 Axes>"
      ]
     },
     "metadata": {
      "needs_background": "light"
     },
     "output_type": "display_data"
    }
   ],
   "source": [
    "sns.barplot(x = 'Brand', y = 'Price', hue= 'Car Type', data = grouped)\n",
    "plt.xlabel('Brand')\n",
    "plt.ylabel('Price')\n",
    "plt.xticks(rotation = 90)\n",
    "plt.show()"
   ]
  },
  {
   "cell_type": "markdown",
   "metadata": {},
   "source": [
    "### Data Preprocessing/Feature Selection"
   ]
  },
  {
   "cell_type": "code",
   "execution_count": 49,
   "metadata": {},
   "outputs": [],
   "source": [
    "#import libraries for preprocessing\n",
    "from sklearn.preprocessing import LabelEncoder"
   ]
  },
  {
   "cell_type": "code",
   "execution_count": 50,
   "metadata": {},
   "outputs": [],
   "source": [
    "#initialize the library\n",
    "\n",
    "encoder = LabelEncoder()\n"
   ]
  },
  {
   "cell_type": "code",
   "execution_count": 53,
   "metadata": {},
   "outputs": [],
   "source": [
    "#tranform the object values to number\n",
    "car['Brand']= encoder.fit_transform(car['Brand'])\n"
   ]
  },
  {
   "cell_type": "markdown",
   "metadata": {},
   "source": [
    "Label Mapping: {'Acura': 0, 'Alpina': 1, 'Audi': 2, 'Bentley': 3, 'Bmw': 4, 'Chevrolet': 5, 'Daf': 6, 'Dodge': 7, 'Fiat': 8, 'Ford': 9, 'Gac': 10, 'Gmc': 11, 'Honda': 12, 'Hyundai': 13, 'Infiniti': 14, 'Isuzu': 15, 'Iveco': 16, 'Jaguar': 17, \n",
    "\n",
    "'Jeep': 18, 'Jmc': 19, 'Kia': 20, 'Land-rover': 21, 'Lexus': 22, 'Lincoln': 23, 'Mack': 24, 'Man': 25, 'Mazda': 26, \n",
    "\n",
    "'Mercedes': 27, 'Mini': 28, 'Mitsubishi': 29, 'Nissan': 30, 'Peugeot': 31, 'Pontiac': 32, 'Porsche': 33, 'Rolls-royce': 34, 'Toyota': 35, 'Volkswagen': 36, 'Volvo': 37}"
   ]
  },
  {
   "cell_type": "code",
   "execution_count": 56,
   "metadata": {},
   "outputs": [],
   "source": [
    "#for car type\n",
    "car['Car Type']= encoder.fit_transform(car['Car Type'])"
   ]
  },
  {
   "cell_type": "markdown",
   "metadata": {},
   "source": [
    "Label Mapping: {'17.22': 0, '4-Runner': 1, 'Accord': 2, 'Arnage': 3, 'Avalon': 4, 'Avensis': 5, 'Azera': 6, 'B3': 7, 'BMW 325': 8, 'BMW 335': 9, 'BMW 525': 10, 'BMW 528': 11, 'BMW 535': 12, 'BMW 730': 13, 'BMW 740': 14, 'BMW 745': 15, 'BMW 750': 16, 'BMW X3': 17, 'BMW X6': 18, 'BOCKMANN': 19, 'Benz 200': 20, 'Benz 220': 21, 'Benz 300': 22, 'Benz 320': 23, 'Benz 350': 24, 'Benz 450': 25, 'Benz 709 DB': 26, 'Benz 814': 27, 'Benz C 180': 28, 'Benz C 250': 29, 'Benz C 300': 30, 'Benz C 320': 31, 'Benz C 350': 32, 'Benz C 450 AMG': 33, 'Benz C 63 AMG': 34, 'Benz CLA 250': 35, 'Benz CLS 500': 36, 'Benz E 200': 37, 'Benz E 300': 38, 'Benz E 320': 39, 'Benz E 350': 40, 'Benz E 550': 41, 'Benz G 550': 42, 'Benz G 63 AMG': 43, 'Benz GL 450': 44, 'Benz GLA 180': 45, 'Benz GLA 250': 46, 'Benz GLC 300': 47, 'Benz GLE 350': 48, 'Benz GLE 43 AMG': 49, 'Benz GLE 450': 50, 'Benz GLK 300': 51, 'Benz GLK 350': 52, 'Benz ML 320': 53, 'Benz ML 350': 54, 'Benz ML 430': 55, 'Benz Maybach': 56, 'Benz S 450': 57, 'Benz S 550': 58, 'C-HR': 59, 'CH613': 60, 'CH613 CONVENTIONAL CAB': 61, 'CR-V': 62, 'CT 200h': 63, 'CXN613': 64, 'CXN613 CAB BEHIND ENGINE': 65, 'Cabstar': 66, 'Camaro': 67, 'Camry': 68, 'Cayenne': 69, 'Cerato': 70, 'Charger': 71, 'Cherokee': 72, 'Civic': 73, 'Cooper': 74, 'Cooper Countryman': 75, 'Cooper Coupé': 76, 'Corolla': 77, 'Crosstour': 78, 'DAF 45': 79, 'DAF 95XF TRACTOR HEAD': 80, 'DAF FA 55. 180': 81, 'DYNA 200': 82, 'Diesel 19.314 FILT-N': 83, 'Discovery': 84, 'Ducato': 85, 'Dyna': 86, 'ES 300': 87, 'ES 330': 88, 'ES 350': 89, 'EUROTECH 7.50E-16': 90, 'Eclipse': 91, 'Edge': 92, 'Elantra': 93, 'Element': 94, 'Escape': 95, 'Evanda': 96, 'Expedition': 97, 'Explorer': 98, 'F 150': 99, 'FL12': 100, 'FL6': 101, 'Fit': 102, 'Focus': 103, 'Frontier': 104, 'Fusion': 105, 'GS 300': 106, 'GS 350': 107, 'GX 460': 108, 'GX 470': 109, 'Galant': 110, 'Ghost': 111, 'Golf': 112, 'Gonow Other': 113, 'Hiace': 114, 'Highlander': 115, 'Hilux': 116, 'INFINITI M90.150/2': 117, 'IS 250': 118, 'Infiniti FX': 119, 'Infiniti JX': 120, 'Infiniti M35': 121, 'Infiniti QX80': 122, 'Insight': 123, 'Jetta': 124, 'LE 8. 180 PLATFORM TRUCK': 125, 'LS 460': 126, 'LT': 127, 'LX 570': 128, 'Land Cruiser': 129, 'MDX': 130, 'Macan': 131, 'Mark': 132, 'Matrix': 133, 'Maxima': 134, 'Mazda 323': 135, 'Mazda 6': 136, 'Mazda CX-9': 137, 'Mazda Tribute': 138, 'Mitsubishi L200': 139, 'Mondeo': 140, 'Montero': 141, 'Murano': 142, 'Mustang': 143, 'NQR': 144, 'Nissan Altima': 145, 'Odyssey': 146, 'Optima': 147, 'Pajero': 148, 'Panamera': 149, 'Passat': 150, 'Pathfinder': 151, 'Peugeot 206': 152, 'Peugeot 307': 153, 'Peugeot 308': 154, 'Peugeot 607': 155, 'Picanto': 156, 'Pilot': 157, 'Prado': 158, 'Primera': 159, 'Prius': 160, 'Quest': 161, 'RAV 4': 162, 'RDX': 163, 'RX 300': 164, 'RX 330': 165, 'RX 350': 166, 'RX 400': 167, 'Range Rover': 168, 'Range Rover Evoque': 169, 'Range Rover Sport': 170, 'Range Rover Velar': 171, 'Ridgeline': 172, 'Rio': 173, 'Rogue': 174, 'S6': 175, 'S80': 176, 'Santa Fe': 177, 'Sentra': 178, 'Sequoia': 179, 'Sharan': 180, 'Sienna': 181, 'Solara': 182, 'Sonata': 183, 'Sorento': 184, 'Soul': 185, 'Stinger': 186, 'T4 Caravelle': 187, 'T6 other': 188, 'TL': 189, 'TRUCK': 190, 'TSX': 191, 'Tacoma': 192, 'Terrain': 193, 'Tiguan': 194, 'Titan': 195, 'Touareg': 196, 'Transit': 197, 'Traverse': 198, 'Tucson': 199, 'Tundra': 200, 'Venza': 201, 'Versa': 202, 'Vibe': 203, 'Vigus': 204, 'Vitz': 205, 'Wrangler': 206, 'X-Trail': 207, 'X-Type': 208, 'XC60': 209, 'XC90': 210, 'XJ8': 211, 'Xterra': 212, 'Yaris': 213, 'ZDX': 214, 'ix35': 215}"
   ]
  },
  {
   "cell_type": "code",
   "execution_count": 62,
   "metadata": {},
   "outputs": [],
   "source": [
    "car['Location'] = encoder.fit_transform(car['Location'])"
   ]
  },
  {
   "cell_type": "markdown",
   "metadata": {},
   "source": [
    "\n",
    "{'Abuja': 0, 'Lagos': 1, 'Ogun': 2, 'Others': 3}"
   ]
  },
  {
   "cell_type": "code",
   "execution_count": 63,
   "metadata": {},
   "outputs": [],
   "source": [
    "car['Imported'] = encoder.fit_transform(car['Imported'])"
   ]
  },
  {
   "cell_type": "markdown",
   "metadata": {},
   "source": [
    "{'Foreign Used': 0, 'Locally used': 1, 'New ': 2}"
   ]
  },
  {
   "cell_type": "code",
   "execution_count": 64,
   "metadata": {},
   "outputs": [],
   "source": [
    "car['Engine'] = encoder.fit_transform(car['Engine'])"
   ]
  },
  {
   "cell_type": "markdown",
   "metadata": {},
   "source": [
    "{'4-cylinder(I4)': 0, '6-cylinder(I6)': 1, '6-cylinder(V6)': 2, '8-cylinder(V8)': 3, 'Others': 4}"
   ]
  },
  {
   "cell_type": "code",
   "execution_count": 65,
   "metadata": {},
   "outputs": [],
   "source": [
    "car['Transmission'] = encoder.fit_transform(car['Transmission'])"
   ]
  },
  {
   "cell_type": "markdown",
   "metadata": {},
   "source": [
    "{'automatic': 0, 'manual': 1}"
   ]
  },
  {
   "cell_type": "code",
   "execution_count": 66,
   "metadata": {},
   "outputs": [],
   "source": [
    "car['Fuel Type'] = encoder.fit_transform(car['Fuel Type'])"
   ]
  },
  {
   "cell_type": "markdown",
   "metadata": {},
   "source": [
    "{'diesel': 0, 'petrol': 1}"
   ]
  },
  {
   "cell_type": "code",
   "execution_count": 59,
   "metadata": {},
   "outputs": [],
   "source": [
    "car['Color'] = encoder.fit_transform(car['Color'])"
   ]
  },
  {
   "cell_type": "markdown",
   "metadata": {},
   "source": [
    "'Black': 0, 'Blue': 1, 'Brown': 2, 'Cream': 3, 'Dark blue': 4, 'Dark grey': 5, 'Gold': 6, 'Green': 7, 'Grey': 8, 'Others': 9, 'Red': 10, 'Silver': 11, 'White': 12, 'Wine': 13}"
   ]
  },
  {
   "cell_type": "code",
   "execution_count": 60,
   "metadata": {},
   "outputs": [],
   "source": [
    "#to access the label of each classes\n",
    "\n",
    "# label_mapping = dict(zip(encoder.classes_, encoder.transform(encoder.classes_)))\n",
    "\n",
    "# # Map the encoded data back to the original data using the dictionary\n",
    "# decoded_data = [k for k, v in label_mapping.items() if v in car['Color']]\n",
    "\n",
    "# print(\"Original Data:\", car['Color'])\n",
    "# print(\"Encoded Data:\", brand)\n",
    "# print(\"Decoded Data:\", decoded_data)\n",
    "# print(\"Label Mapping:\", label_mapping)"
   ]
  },
  {
   "cell_type": "code",
   "execution_count": 67,
   "metadata": {},
   "outputs": [
    {
     "data": {
      "text/html": [
       "<div>\n",
       "<style scoped>\n",
       "    .dataframe tbody tr th:only-of-type {\n",
       "        vertical-align: middle;\n",
       "    }\n",
       "\n",
       "    .dataframe tbody tr th {\n",
       "        vertical-align: top;\n",
       "    }\n",
       "\n",
       "    .dataframe thead th {\n",
       "        text-align: right;\n",
       "    }\n",
       "</style>\n",
       "<table border=\"1\" class=\"dataframe\">\n",
       "  <thead>\n",
       "    <tr style=\"text-align: right;\">\n",
       "      <th></th>\n",
       "      <th>Brand</th>\n",
       "      <th>Car Type</th>\n",
       "      <th>Odometer</th>\n",
       "      <th>Location</th>\n",
       "      <th>Imported</th>\n",
       "      <th>Engine</th>\n",
       "      <th>Transmission</th>\n",
       "      <th>Fuel Type</th>\n",
       "      <th>Color</th>\n",
       "      <th>Year</th>\n",
       "      <th>Price</th>\n",
       "    </tr>\n",
       "  </thead>\n",
       "  <tbody>\n",
       "    <tr>\n",
       "      <th>0</th>\n",
       "      <td>35</td>\n",
       "      <td>77</td>\n",
       "      <td>60127</td>\n",
       "      <td>1</td>\n",
       "      <td>1</td>\n",
       "      <td>0</td>\n",
       "      <td>0</td>\n",
       "      <td>1</td>\n",
       "      <td>11</td>\n",
       "      <td>2009</td>\n",
       "      <td>1995000</td>\n",
       "    </tr>\n",
       "    <tr>\n",
       "      <th>1</th>\n",
       "      <td>0</td>\n",
       "      <td>130</td>\n",
       "      <td>132908</td>\n",
       "      <td>1</td>\n",
       "      <td>0</td>\n",
       "      <td>2</td>\n",
       "      <td>0</td>\n",
       "      <td>1</td>\n",
       "      <td>13</td>\n",
       "      <td>2009</td>\n",
       "      <td>3315000</td>\n",
       "    </tr>\n",
       "    <tr>\n",
       "      <th>2</th>\n",
       "      <td>22</td>\n",
       "      <td>89</td>\n",
       "      <td>120412</td>\n",
       "      <td>1</td>\n",
       "      <td>1</td>\n",
       "      <td>2</td>\n",
       "      <td>0</td>\n",
       "      <td>1</td>\n",
       "      <td>11</td>\n",
       "      <td>2008</td>\n",
       "      <td>2655000</td>\n",
       "    </tr>\n",
       "    <tr>\n",
       "      <th>3</th>\n",
       "      <td>27</td>\n",
       "      <td>52</td>\n",
       "      <td>67640</td>\n",
       "      <td>1</td>\n",
       "      <td>0</td>\n",
       "      <td>0</td>\n",
       "      <td>0</td>\n",
       "      <td>1</td>\n",
       "      <td>0</td>\n",
       "      <td>2013</td>\n",
       "      <td>9015000</td>\n",
       "    </tr>\n",
       "    <tr>\n",
       "      <th>4</th>\n",
       "      <td>27</td>\n",
       "      <td>37</td>\n",
       "      <td>92440</td>\n",
       "      <td>0</td>\n",
       "      <td>0</td>\n",
       "      <td>0</td>\n",
       "      <td>0</td>\n",
       "      <td>1</td>\n",
       "      <td>0</td>\n",
       "      <td>2013</td>\n",
       "      <td>5790000</td>\n",
       "    </tr>\n",
       "  </tbody>\n",
       "</table>\n",
       "</div>"
      ],
      "text/plain": [
       "   Brand  Car Type  Odometer  Location  Imported  Engine  Transmission  \\\n",
       "0     35        77     60127         1         1       0             0   \n",
       "1      0       130    132908         1         0       2             0   \n",
       "2     22        89    120412         1         1       2             0   \n",
       "3     27        52     67640         1         0       0             0   \n",
       "4     27        37     92440         0         0       0             0   \n",
       "\n",
       "   Fuel Type  Color  Year    Price  \n",
       "0          1     11  2009  1995000  \n",
       "1          1     13  2009  3315000  \n",
       "2          1     11  2008  2655000  \n",
       "3          1      0  2013  9015000  \n",
       "4          1      0  2013  5790000  "
      ]
     },
     "execution_count": 67,
     "metadata": {},
     "output_type": "execute_result"
    }
   ],
   "source": [
    "#view the rows \n",
    "\n",
    "car.head()"
   ]
  },
  {
   "cell_type": "markdown",
   "metadata": {},
   "source": [
    "### Model Training"
   ]
  },
  {
   "cell_type": "code",
   "execution_count": 68,
   "metadata": {},
   "outputs": [],
   "source": [
    "#import libraries needed\n",
    "from sklearn.metrics import r2_score, mean_squared_error\n",
    "from sklearn.model_selection import train_test_split\n",
    "from sklearn.linear_model import LinearRegression\n",
    "from sklearn.ensemble import RandomForestRegressor, AdaBoostRegressor\n",
    "import xgboost as xgb\n",
    "from xgboost import XGBRegressor"
   ]
  },
  {
   "cell_type": "code",
   "execution_count": 69,
   "metadata": {},
   "outputs": [],
   "source": [
    "X = car.drop('Price', axis=1)\n",
    "y = car['Price'] "
   ]
  },
  {
   "cell_type": "code",
   "execution_count": 70,
   "metadata": {},
   "outputs": [],
   "source": [
    "X_train, X_test, y_train, y_test = train_test_split(X,y,test_size=0.2, random_state=456)"
   ]
  },
  {
   "cell_type": "markdown",
   "metadata": {},
   "source": [
    "### LinearRegression"
   ]
  },
  {
   "cell_type": "code",
   "execution_count": 71,
   "metadata": {},
   "outputs": [],
   "source": [
    "lr = LinearRegression()"
   ]
  },
  {
   "cell_type": "code",
   "execution_count": 72,
   "metadata": {},
   "outputs": [
    {
     "data": {
      "text/plain": [
       "0.3922192944323212"
      ]
     },
     "execution_count": 72,
     "metadata": {},
     "output_type": "execute_result"
    }
   ],
   "source": [
    "lr.fit(X_train, y_train)\n",
    "lr_pred = lr.predict(X_test)\n",
    "r2_score(y_test, lr_pred)"
   ]
  },
  {
   "cell_type": "markdown",
   "metadata": {},
   "source": [
    "### RandomForestRegressor"
   ]
  },
  {
   "cell_type": "code",
   "execution_count": 73,
   "metadata": {},
   "outputs": [
    {
     "data": {
      "image/png": "[encoded data removed]",
      "text/plain": [
       "<Figure size 432x288 with 1 Axes>"
      ]
     },
     "metadata": {
      "needs_background": "light"
     },
     "output_type": "display_data"
    },
    {
     "name": "stdout",
     "output_type": "stream",
     "text": [
      "[0.6177574269462547, 0.6796517754883279, 0.7366343777413, 0.7403099935577179, 0.7492720111753703, 0.7535226133339126, 0.754951117930843, 0.7557013917708328]\n"
     ]
    }
   ],
   "source": [
    "# Find best n_estimators\n",
    "score = []\n",
    "est = []\n",
    "estimators = [1, 10, 50, 100, 200, 300, 400, 500]\n",
    "\n",
    "for e in estimators:\n",
    "    rfc1 = RandomForestRegressor(n_estimators=e, random_state=42)\n",
    "    pred1 = rfc1.fit(X_train, y_train).predict(X_test)\n",
    "    accuracy = r2_score(y_test, pred1)\n",
    "    score.append(accuracy)\n",
    "    est.append(e)\n",
    "\n",
    "plot = sns.pointplot(x=est, y=score)\n",
    "plot.set(xlabel='Number of estimators', ylabel='Accuracy', title='Accuracy score of RFC per # of estimators')\n",
    "plt.show()\n",
    "print(score)"
   ]
  },
  {
   "cell_type": "code",
   "execution_count": 74,
   "metadata": {},
   "outputs": [
    {
     "data": {
      "image/png": "[encoded data removed]",
      "text/plain": [
       "<Figure size 432x288 with 1 Axes>"
      ]
     },
     "metadata": {
      "needs_background": "light"
     },
     "output_type": "display_data"
    },
    {
     "name": "stdout",
     "output_type": "stream",
     "text": [
      "[0.7403099935577179, 0.7390839752830356, 0.6782215925689792, 0.5026076028296846, 0.42785753922480163, 0.32991254363665357]\n"
     ]
    }
   ],
   "source": [
    "# Find best min_samples_leaf\n",
    "score = []\n",
    "leaf = []\n",
    "leaf_options = [1, 5, 10, 50, 100, 200]\n",
    "\n",
    "for l in leaf_options:\n",
    "    rfc2 = RandomForestRegressor(n_estimators=100, random_state=42, min_samples_leaf=l)\n",
    "    pred2 = rfc2.fit(X_train, y_train).predict(X_test)\n",
    "    accuracy = r2_score(y_test, pred2)\n",
    "    score.append(accuracy)\n",
    "    leaf.append(l)\n",
    "\n",
    "plot = sns.pointplot(x=leaf, y=score)\n",
    "plot.set(xlabel='Number of minimum leaf samples', ylabel='Accuracy', title='Accuracy score of RFC per # of minimum leaf samples')\n",
    "plt.show()\n",
    "print(score)"
   ]
  },
  {
   "cell_type": "code",
   "execution_count": 75,
   "metadata": {},
   "outputs": [
    {
     "data": {
      "image/png": "[encoded data removed]",
      "text/plain": [
       "<Figure size 432x288 with 1 Axes>"
      ]
     },
     "metadata": {
      "needs_background": "light"
     },
     "output_type": "display_data"
    },
    {
     "name": "stdout",
     "output_type": "stream",
     "text": [
      "[0.6844072823640126, 0.7414713923509607, 0.7409134099886174, 0.7460597387453121, 0.7400756050640636, 0.7403099935577179, 0.7403099935577179, 0.7403099935577179, 0.7403099935577179, 0.7403099935577179]\n"
     ]
    }
   ],
   "source": [
    "# Find best max_depth\n",
    "score = []\n",
    "depth = []\n",
    "depth_options = [5, 10, 15, 20, 25, 30, 35, 40, 45, 50]\n",
    "\n",
    "for d in depth_options:\n",
    "    rfc3 = RandomForestRegressor(n_estimators=100, random_state=42, min_samples_leaf=1, max_depth=d)\n",
    "    pred3 = rfc3.fit(X_train, y_train).predict(X_test)\n",
    "    accuracy = r2_score(y_test, pred3)\n",
    "    score.append(accuracy)\n",
    "    depth.append(d)\n",
    "\n",
    "plot = sns.pointplot(x=depth, y=score)\n",
    "plot.set(xlabel='Number of maximum tree depth', ylabel='Accuracy', title='Accuracy score of RFC per # of maximum tree depth')\n",
    "plt.show()\n",
    "print(score)"
   ]
  },
  {
   "cell_type": "code",
   "execution_count": 76,
   "metadata": {},
   "outputs": [],
   "source": [
    "rf=RandomForestRegressor(criterion='squared_error',n_estimators=500, min_samples_leaf=1, max_depth=20, random_state=42)"
   ]
  },
  {
   "cell_type": "code",
   "execution_count": 77,
   "metadata": {},
   "outputs": [
    {
     "data": {
      "text/plain": [
       "0.7588090704015061"
      ]
     },
     "execution_count": 77,
     "metadata": {},
     "output_type": "execute_result"
    }
   ],
   "source": [
    "rf.fit(X_train, y_train)\n",
    "rf_pred = rf.predict(X_test)\n",
    "r2_score(y_test, rf_pred)"
   ]
  },
  {
   "cell_type": "code",
   "execution_count": 78,
   "metadata": {},
   "outputs": [
    {
     "data": {
      "text/html": [
       "<div>\n",
       "<style scoped>\n",
       "    .dataframe tbody tr th:only-of-type {\n",
       "        vertical-align: middle;\n",
       "    }\n",
       "\n",
       "    .dataframe tbody tr th {\n",
       "        vertical-align: top;\n",
       "    }\n",
       "\n",
       "    .dataframe thead th {\n",
       "        text-align: right;\n",
       "    }\n",
       "</style>\n",
       "<table border=\"1\" class=\"dataframe\">\n",
       "  <thead>\n",
       "    <tr style=\"text-align: right;\">\n",
       "      <th></th>\n",
       "      <th>y_test</th>\n",
       "      <th>rf_pred</th>\n",
       "    </tr>\n",
       "  </thead>\n",
       "  <tbody>\n",
       "    <tr>\n",
       "      <th>1305</th>\n",
       "      <td>4195000</td>\n",
       "      <td>5.023043e+06</td>\n",
       "    </tr>\n",
       "    <tr>\n",
       "      <th>864</th>\n",
       "      <td>2170000</td>\n",
       "      <td>2.103384e+06</td>\n",
       "    </tr>\n",
       "    <tr>\n",
       "      <th>1211</th>\n",
       "      <td>13515000</td>\n",
       "      <td>1.469859e+07</td>\n",
       "    </tr>\n",
       "    <tr>\n",
       "      <th>730</th>\n",
       "      <td>7895000</td>\n",
       "      <td>8.130630e+06</td>\n",
       "    </tr>\n",
       "    <tr>\n",
       "      <th>426</th>\n",
       "      <td>7415000</td>\n",
       "      <td>6.932430e+06</td>\n",
       "    </tr>\n",
       "    <tr>\n",
       "      <th>...</th>\n",
       "      <td>...</td>\n",
       "      <td>...</td>\n",
       "    </tr>\n",
       "    <tr>\n",
       "      <th>313</th>\n",
       "      <td>4915000</td>\n",
       "      <td>4.524831e+06</td>\n",
       "    </tr>\n",
       "    <tr>\n",
       "      <th>631</th>\n",
       "      <td>3515000</td>\n",
       "      <td>3.338154e+06</td>\n",
       "    </tr>\n",
       "    <tr>\n",
       "      <th>847</th>\n",
       "      <td>8265000</td>\n",
       "      <td>8.008300e+06</td>\n",
       "    </tr>\n",
       "    <tr>\n",
       "      <th>789</th>\n",
       "      <td>21015000</td>\n",
       "      <td>4.120793e+07</td>\n",
       "    </tr>\n",
       "    <tr>\n",
       "      <th>495</th>\n",
       "      <td>5525000</td>\n",
       "      <td>5.455610e+06</td>\n",
       "    </tr>\n",
       "  </tbody>\n",
       "</table>\n",
       "<p>283 rows × 2 columns</p>\n",
       "</div>"
      ],
      "text/plain": [
       "        y_test       rf_pred\n",
       "1305   4195000  5.023043e+06\n",
       "864    2170000  2.103384e+06\n",
       "1211  13515000  1.469859e+07\n",
       "730    7895000  8.130630e+06\n",
       "426    7415000  6.932430e+06\n",
       "...        ...           ...\n",
       "313    4915000  4.524831e+06\n",
       "631    3515000  3.338154e+06\n",
       "847    8265000  8.008300e+06\n",
       "789   21015000  4.120793e+07\n",
       "495    5525000  5.455610e+06\n",
       "\n",
       "[283 rows x 2 columns]"
      ]
     },
     "execution_count": 78,
     "metadata": {},
     "output_type": "execute_result"
    }
   ],
   "source": [
    "pd.DataFrame({'y_test': y_test,\n",
    "              'rf_pred': rf_pred})"
   ]
  },
  {
   "cell_type": "markdown",
   "metadata": {},
   "source": [
    "### AdaBoostRegressor"
   ]
  },
  {
   "cell_type": "code",
   "execution_count": 79,
   "metadata": {},
   "outputs": [
    {
     "data": {
      "image/png": "[encoded data removed]",
      "text/plain": [
       "<Figure size 432x288 with 1 Axes>"
      ]
     },
     "metadata": {
      "needs_background": "light"
     },
     "output_type": "display_data"
    },
    {
     "name": "stdout",
     "output_type": "stream",
     "text": [
      "[0.10314611136810281, 0.4933383933947313, 0.5366964168201471, 0.5366964168201471, 0.5366964168201471, 0.5366964168201471, 0.5366964168201471, 0.5366964168201471]\n"
     ]
    }
   ],
   "source": [
    "# Find best n_estimators\n",
    "score = []\n",
    "est = []\n",
    "estimators = [1, 10, 50, 100, 200, 300, 400, 500]\n",
    "\n",
    "for e in estimators:\n",
    "    rfc1 = AdaBoostRegressor(n_estimators=e, random_state=42)\n",
    "    pred1 = rfc1.fit(X_train, y_train).predict(X_test)\n",
    "    accuracy = r2_score(y_test, pred1)\n",
    "    score.append(accuracy)\n",
    "    est.append(e)\n",
    "\n",
    "plot = sns.pointplot(x=est, y=score)\n",
    "plot.set(xlabel='Number of estimators', ylabel='Accuracy', title='Accuracy score of RFC per # of estimators')\n",
    "plt.show()\n",
    "print(score)"
   ]
  },
  {
   "cell_type": "code",
   "execution_count": 80,
   "metadata": {},
   "outputs": [],
   "source": [
    "ada = AdaBoostRegressor(base_estimator= rf, n_estimators=50,random_state=42)"
   ]
  },
  {
   "cell_type": "code",
   "execution_count": 81,
   "metadata": {},
   "outputs": [
    {
     "data": {
      "text/plain": [
       "0.8007118954349717"
      ]
     },
     "execution_count": 81,
     "metadata": {},
     "output_type": "execute_result"
    }
   ],
   "source": [
    "ada.fit(X_train, y_train)\n",
    "ada_pred = ada.predict(X_test)\n",
    "r2_score(y_test, ada_pred)"
   ]
  },
  {
   "cell_type": "code",
   "execution_count": 82,
   "metadata": {},
   "outputs": [
    {
     "data": {
      "text/html": [
       "<div>\n",
       "<style scoped>\n",
       "    .dataframe tbody tr th:only-of-type {\n",
       "        vertical-align: middle;\n",
       "    }\n",
       "\n",
       "    .dataframe tbody tr th {\n",
       "        vertical-align: top;\n",
       "    }\n",
       "\n",
       "    .dataframe thead th {\n",
       "        text-align: right;\n",
       "    }\n",
       "</style>\n",
       "<table border=\"1\" class=\"dataframe\">\n",
       "  <thead>\n",
       "    <tr style=\"text-align: right;\">\n",
       "      <th></th>\n",
       "      <th>y_test</th>\n",
       "      <th>rf_pred</th>\n",
       "    </tr>\n",
       "  </thead>\n",
       "  <tbody>\n",
       "    <tr>\n",
       "      <th>1305</th>\n",
       "      <td>4195000</td>\n",
       "      <td>6151710.0</td>\n",
       "    </tr>\n",
       "    <tr>\n",
       "      <th>864</th>\n",
       "      <td>2170000</td>\n",
       "      <td>2351235.0</td>\n",
       "    </tr>\n",
       "    <tr>\n",
       "      <th>1211</th>\n",
       "      <td>13515000</td>\n",
       "      <td>13882430.0</td>\n",
       "    </tr>\n",
       "    <tr>\n",
       "      <th>730</th>\n",
       "      <td>7895000</td>\n",
       "      <td>8237895.0</td>\n",
       "    </tr>\n",
       "    <tr>\n",
       "      <th>426</th>\n",
       "      <td>7415000</td>\n",
       "      <td>7702460.0</td>\n",
       "    </tr>\n",
       "    <tr>\n",
       "      <th>...</th>\n",
       "      <td>...</td>\n",
       "      <td>...</td>\n",
       "    </tr>\n",
       "    <tr>\n",
       "      <th>313</th>\n",
       "      <td>4915000</td>\n",
       "      <td>4259670.0</td>\n",
       "    </tr>\n",
       "    <tr>\n",
       "      <th>631</th>\n",
       "      <td>3515000</td>\n",
       "      <td>4403345.0</td>\n",
       "    </tr>\n",
       "    <tr>\n",
       "      <th>847</th>\n",
       "      <td>8265000</td>\n",
       "      <td>8293590.0</td>\n",
       "    </tr>\n",
       "    <tr>\n",
       "      <th>789</th>\n",
       "      <td>21015000</td>\n",
       "      <td>38398030.0</td>\n",
       "    </tr>\n",
       "    <tr>\n",
       "      <th>495</th>\n",
       "      <td>5525000</td>\n",
       "      <td>6153556.0</td>\n",
       "    </tr>\n",
       "  </tbody>\n",
       "</table>\n",
       "<p>283 rows × 2 columns</p>\n",
       "</div>"
      ],
      "text/plain": [
       "        y_test     rf_pred\n",
       "1305   4195000   6151710.0\n",
       "864    2170000   2351235.0\n",
       "1211  13515000  13882430.0\n",
       "730    7895000   8237895.0\n",
       "426    7415000   7702460.0\n",
       "...        ...         ...\n",
       "313    4915000   4259670.0\n",
       "631    3515000   4403345.0\n",
       "847    8265000   8293590.0\n",
       "789   21015000  38398030.0\n",
       "495    5525000   6153556.0\n",
       "\n",
       "[283 rows x 2 columns]"
      ]
     },
     "execution_count": 82,
     "metadata": {},
     "output_type": "execute_result"
    }
   ],
   "source": [
    "pd.DataFrame({'y_test': y_test,\n",
    "              'rf_pred': ada_pred})"
   ]
  },
  {
   "cell_type": "markdown",
   "metadata": {},
   "source": [
    "### XGBRegressor"
   ]
  },
  {
   "cell_type": "code",
   "execution_count": 83,
   "metadata": {},
   "outputs": [],
   "source": [
    "model = XGBRegressor()"
   ]
  },
  {
   "cell_type": "code",
   "execution_count": 84,
   "metadata": {},
   "outputs": [
    {
     "data": {
      "text/plain": [
       "0.7313089520526781"
      ]
     },
     "execution_count": 84,
     "metadata": {},
     "output_type": "execute_result"
    }
   ],
   "source": [
    "model.fit(X_train, y_train)\n",
    "xgb_pred = model.predict(X_test)\n",
    "r2_score(y_test, xgb_pred)"
   ]
  },
  {
   "cell_type": "code",
   "execution_count": 85,
   "metadata": {},
   "outputs": [
    {
     "data": {
      "text/html": [
       "<div>\n",
       "<style scoped>\n",
       "    .dataframe tbody tr th:only-of-type {\n",
       "        vertical-align: middle;\n",
       "    }\n",
       "\n",
       "    .dataframe tbody tr th {\n",
       "        vertical-align: top;\n",
       "    }\n",
       "\n",
       "    .dataframe thead th {\n",
       "        text-align: right;\n",
       "    }\n",
       "</style>\n",
       "<table border=\"1\" class=\"dataframe\">\n",
       "  <thead>\n",
       "    <tr style=\"text-align: right;\">\n",
       "      <th></th>\n",
       "      <th>y_test</th>\n",
       "      <th>rf_pred</th>\n",
       "    </tr>\n",
       "  </thead>\n",
       "  <tbody>\n",
       "    <tr>\n",
       "      <th>1305</th>\n",
       "      <td>4195000</td>\n",
       "      <td>5044682.50</td>\n",
       "    </tr>\n",
       "    <tr>\n",
       "      <th>864</th>\n",
       "      <td>2170000</td>\n",
       "      <td>2208216.75</td>\n",
       "    </tr>\n",
       "    <tr>\n",
       "      <th>1211</th>\n",
       "      <td>13515000</td>\n",
       "      <td>13417013.00</td>\n",
       "    </tr>\n",
       "    <tr>\n",
       "      <th>730</th>\n",
       "      <td>7895000</td>\n",
       "      <td>6127826.50</td>\n",
       "    </tr>\n",
       "    <tr>\n",
       "      <th>426</th>\n",
       "      <td>7415000</td>\n",
       "      <td>7041486.00</td>\n",
       "    </tr>\n",
       "    <tr>\n",
       "      <th>...</th>\n",
       "      <td>...</td>\n",
       "      <td>...</td>\n",
       "    </tr>\n",
       "    <tr>\n",
       "      <th>313</th>\n",
       "      <td>4915000</td>\n",
       "      <td>4440504.50</td>\n",
       "    </tr>\n",
       "    <tr>\n",
       "      <th>631</th>\n",
       "      <td>3515000</td>\n",
       "      <td>3620479.75</td>\n",
       "    </tr>\n",
       "    <tr>\n",
       "      <th>847</th>\n",
       "      <td>8265000</td>\n",
       "      <td>7923365.00</td>\n",
       "    </tr>\n",
       "    <tr>\n",
       "      <th>789</th>\n",
       "      <td>21015000</td>\n",
       "      <td>31259874.00</td>\n",
       "    </tr>\n",
       "    <tr>\n",
       "      <th>495</th>\n",
       "      <td>5525000</td>\n",
       "      <td>5183830.00</td>\n",
       "    </tr>\n",
       "  </tbody>\n",
       "</table>\n",
       "<p>283 rows × 2 columns</p>\n",
       "</div>"
      ],
      "text/plain": [
       "        y_test      rf_pred\n",
       "1305   4195000   5044682.50\n",
       "864    2170000   2208216.75\n",
       "1211  13515000  13417013.00\n",
       "730    7895000   6127826.50\n",
       "426    7415000   7041486.00\n",
       "...        ...          ...\n",
       "313    4915000   4440504.50\n",
       "631    3515000   3620479.75\n",
       "847    8265000   7923365.00\n",
       "789   21015000  31259874.00\n",
       "495    5525000   5183830.00\n",
       "\n",
       "[283 rows x 2 columns]"
      ]
     },
     "execution_count": 85,
     "metadata": {},
     "output_type": "execute_result"
    }
   ],
   "source": [
    "pd.DataFrame({'y_test': y_test,\n",
    "              'rf_pred': xgb_pred})"
   ]
  },
  {
   "cell_type": "markdown",
   "metadata": {},
   "source": [
    "### Summary/Conclusion\n",
    "\n",
    "from the data above, Randomforest had 65% score after boosting it with Adaboost it improved to 67%\n"
   ]
  },
  {
   "cell_type": "code",
   "execution_count": 87,
   "metadata": {},
   "outputs": [],
   "source": [
    "#save the model\n",
    "import pickle\n",
    "pickle.dump(ada,open('car.pkl', 'wb'))"
   ]
  },
  {
   "cell_type": "code",
   "execution_count": null,
   "metadata": {},
   "outputs": [],
   "source": []
  }
 ],
 "metadata": {
  "kernelspec": {
   "display_name": "base",
   "language": "python",
   "name": "python3"
  },
  "language_info": {
   "codemirror_mode": {
    "name": "ipython",
    "version": 3
   },
   "file_extension": ".py",
   "mimetype": "text/x-python",
   "name": "python",
   "nbconvert_exporter": "python",
   "pygments_lexer": "ipython3",
   "version": "3.9.12"
  }
 },
 "nbformat": 4,
 "nbformat_minor": 2
}
